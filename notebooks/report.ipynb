{
 "cells": [
  {
   "attachments": {},
   "cell_type": "markdown",
   "id": "2034b423",
   "metadata": {},
   "source": [
    "# Dự đoán giá nhà"
   ]
  },
  {
   "cell_type": "code",
   "execution_count": 89,
   "id": "135bd005",
   "metadata": {},
   "outputs": [],
   "source": [
    "obj_feat = list(df.loc[:, df.dtypes == 'object'].columns.values)\n",
    "for feature in obj_feat:\n",
    "    df[feature] = df[feature].astype('category')"
   ]
  },
  {
   "cell_type": "code",
   "execution_count": 90,
   "id": "89c3992a",
   "metadata": {},
   "outputs": [
    {
     "data": {
      "text/plain": [
       "Index(['LotFrontage', 'LotArea', 'Alley', 'LotShape', 'LotConfig',\n",
       "       'Neighborhood', 'HouseStyle', 'OverallQual', 'YearBuilt',\n",
       "       'YearRemodAdd', 'MasVnrArea', 'ExterQual', 'BsmtQual', 'BsmtFinSF1',\n",
       "       'TotalBsmtSF', 'HeatingQC', 'CentralAir', '1stFlrSF', '2ndFlrSF',\n",
       "       'GrLivArea', 'FullBath', 'KitchenQual', 'TotRmsAbvGrd', 'Fireplaces',\n",
       "       'GarageYrBlt', 'GarageFinish', 'GarageCars', 'GarageArea',\n",
       "       'MasVnrAreaCatg'],\n",
       "      dtype='object')"
      ]
     },
     "execution_count": 90,
     "metadata": {},
     "output_type": "execute_result"
    }
   ],
   "source": [
    "# input và output\n",
    "x = df.drop(['SalePrice'],axis=1)\n",
    "y = df.SalePrice\n",
    "\n",
    "# chia dữ liệu đầu vào thành tập train và test \n",
    "x_train,x_test,y_train,y_test = train_test_split(x,y,test_size=0.30,random_state=1)\n",
    "x.iloc[0].index"
   ]
  },
  {
   "cell_type": "code",
   "execution_count": 92,
   "id": "5f85fe05",
   "metadata": {},
   "outputs": [
    {
     "name": "stdout",
     "output_type": "stream",
     "text": [
      "Train r2 = 0.97 \n",
      "Test r2 = 0.91\n",
      "Train msle = 0.01 \n",
      "Test msle = 0.02\n"
     ]
    },
    {
     "data": {
      "text/plain": [
       "{'learning_rate': 0.2,\n",
       " 'max_depth': 3,\n",
       " 'min_child_samples': 10,\n",
       " 'n_estimators': 100}"
      ]
     },
     "execution_count": 92,
     "metadata": {},
     "output_type": "execute_result"
    }
   ],
   "source": [
    "from sklearn.model_selection import GridSearchCV\n",
    "\n",
    "params = [{\"max_depth\":[3, 5], \n",
    "            \"n_estimators\" : [50, 100], \n",
    "            \"learning_rate\" : [0.1, 0.2],\n",
    "            \"min_child_samples\" : [20, 10]}]\n",
    "\n",
    "gs_knn = GridSearchCV(model,\n",
    "                      param_grid=params,\n",
    "                      cv=5)\n",
    "\n",
    "gs_knn.fit(x_train, y_train)\n",
    "gs_knn.score(x_train, y_train)\n",
    "\n",
    "pred_y_train = model.predict(x_train)\n",
    "pred_y_test = model.predict(x_test)\n",
    "\n",
    "r2_train = metrics.r2_score(y_train, pred_y_train)\n",
    "r2_test = metrics.r2_score(y_test, pred_y_test)\n",
    "\n",
    "msle_train =metrics.mean_squared_log_error(y_train, pred_y_train)\n",
    "msle_test =metrics.mean_squared_log_error(y_test, pred_y_test)\n",
    "\n",
    "print(f\"Train r2 = {r2_train:.2f} \\nTest r2 = {r2_test:.2f}\")\n",
    "print(f\"Train msle = {msle_train:.2f} \\nTest msle = {msle_test:.2f}\")\n",
    "\n",
    "gs_knn.best_params_\n"
   ]
  },
  {
   "attachments": {},
   "cell_type": "markdown",
   "id": "983f2ab1",
   "metadata": {},
   "source": [
    "#### Lưu và load mô hình"
   ]
  },
  {
   "attachments": {},
   "cell_type": "markdown",
   "id": "8f45fe7f",
   "metadata": {},
   "source": [
    "Mô hình train được lưu và load nhờ thư viện Pickle."
   ]
  },
  {
   "cell_type": "code",
   "execution_count": 94,
   "id": "cd6c9562",
   "metadata": {},
   "outputs": [],
   "source": [
    "# lưu mô hình\n",
    "import pickle\n",
    "\n",
    "filename = 'trained_model'\n",
    "pickle.dump(model, open(filename, 'wb'))"
   ]
  },
  {
   "cell_type": "code",
   "execution_count": 95,
   "id": "98590d05",
   "metadata": {},
   "outputs": [
    {
     "name": "stdout",
     "output_type": "stream",
     "text": [
      "0.9065596642357174\n",
      "[159120.15487566]\n"
     ]
    }
   ],
   "source": [
    "# load mô hình\n",
    "import pickle\n",
    "\n",
    "filename = 'trained_model.model'\n",
    "\n",
    "loaded_model = pickle.load(open(filename, 'rb'))\n",
    "result = loaded_model.score(x_test, y_test)\n",
    "print(result)\n",
    "\n",
    "# predict\n",
    "print(loaded_model.predict(inputDf))\n"
   ]
  }
 ],
 "metadata": {
  "kernelspec": {
   "display_name": "Python 3",
   "language": "python",
   "name": "python3"
  },
  "language_info": {
   "codemirror_mode": {
    "name": "ipython",
    "version": 3
   },
   "file_extension": ".py",
   "mimetype": "text/x-python",
   "name": "python",
   "nbconvert_exporter": "python",
   "pygments_lexer": "ipython3",
   "version": "3.10.2 (tags/v3.10.2:a58ebcc, Jan 17 2022, 14:12:15) [MSC v.1929 64 bit (AMD64)]"
  },
  "vscode": {
   "interpreter": {
    "hash": "a42ccb73e7d9bfdf27e036f1d2b8b681e55fc0743cc5586bc2474d4a60f4b886"
   }
  }
 },
 "nbformat": 4,
 "nbformat_minor": 5
}
